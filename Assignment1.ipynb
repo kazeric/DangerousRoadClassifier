{
 "cells": [
  {
   "cell_type": "markdown",
   "metadata": {},
   "source": [
    "Step 1: Load the data "
   ]
  },
  {
   "cell_type": "code",
   "execution_count": 39,
   "metadata": {},
   "outputs": [
    {
     "name": "stdout",
     "output_type": "stream",
     "text": [
      "  Accident Spot      Area     County                Road/ Highway  \\\n",
      "0         Sobea     Sobea     Nakuru       Nakuru-Eldoret Highway   \n",
      "1    Maai-Mahiu  Naivasha     Nakuru  Maai-Mahiu Naivasha Highway   \n",
      "2       Ntulele   Ntulele      Narok        Narok Maai Mahiu road   \n",
      "3         Suswa     Suswa      Narok        Narok Maai Mahiu road   \n",
      "4        Mutira    Mutira  Kirinyaga       Kerugoya-Karatina Road   \n",
      "\n",
      "  Total people confirmed dead Time of the Accidents  \n",
      "0                           4               4.30 pm  \n",
      "1                           1               5.50 pm  \n",
      "2                           4                   NaN  \n",
      "3                           3               6.00 pm  \n",
      "4                           1                   NaN  \n"
     ]
    }
   ],
   "source": [
    "import pandas as pd\n",
    "from sklearn.model_selection import train_test_split\n",
    "from sklearn.neighbors import KNeighborsClassifier\n",
    "from sklearn.metrics import accuracy_score\n",
    "\n",
    "#Load the data \n",
    "data = pd.read_csv('TRAFFIC ACCIDENTS DATA.csv')  # Load your dataset\n",
    "\n",
    "\n",
    "# drop uneccesary columns \n",
    "columns_to_drop = ['Brief Accident Details/Cause', 'Weather conditions','Victims','Date']\n",
    "data.drop(columns=columns_to_drop, inplace=True)\n",
    "\n",
    "#inspect the data \n",
    "print(data.head())  \n"
   ]
  },
  {
   "cell_type": "markdown",
   "metadata": {},
   "source": [
    "Map the frequecy of accidents to the road "
   ]
  },
  {
   "cell_type": "code",
   "execution_count": 40,
   "metadata": {},
   "outputs": [
    {
     "name": "stdout",
     "output_type": "stream",
     "text": [
      "  Accident Spot      Area     County                Road/ Highway  \\\n",
      "0         Sobea     Sobea     Nakuru       Nakuru-Eldoret Highway   \n",
      "1    Maai-Mahiu  Naivasha     Nakuru  Maai-Mahiu Naivasha Highway   \n",
      "2       Ntulele   Ntulele      Narok        Narok Maai Mahiu road   \n",
      "3         Suswa     Suswa      Narok        Narok Maai Mahiu road   \n",
      "4        Mutira    Mutira  Kirinyaga       Kerugoya-Karatina Road   \n",
      "\n",
      "  Total people confirmed dead Time of the Accidents  Number of Accidents  \n",
      "0                           4               4.30 pm                   10  \n",
      "1                           1               5.50 pm                    1  \n",
      "2                           4                   NaN                    5  \n",
      "3                           3               6.00 pm                    5  \n",
      "4                           1                   NaN                    1  \n"
     ]
    }
   ],
   "source": [
    "import pandas as pd\n",
    "\n",
    "\n",
    "# Specify the feature to analyze\n",
    "feature = 'Road/ Highway'  \n",
    "\n",
    "# Check if the feature exists in the DataFrame\n",
    "if feature in data.columns:\n",
    "    # Get unique values and their frequency\n",
    "    frequency = data[feature].value_counts()\n",
    "    data['Number of Accidents'] = data[feature].map(frequency)\n",
    "    print(data.head()) \n",
    "else:\n",
    "    print(\"feature not found\")\n"
   ]
  },
  {
   "cell_type": "code",
   "execution_count": null,
   "metadata": {},
   "outputs": [
    {
     "name": "stdout",
     "output_type": "stream",
     "text": [
      "  Accident Spot      Area     County                Road/ Highway  \\\n",
      "0         Sobea     Sobea     Nakuru       Nakuru-Eldoret Highway   \n",
      "1    Maai-Mahiu  Naivasha     Nakuru  Maai-Mahiu Naivasha Highway   \n",
      "2       Ntulele   Ntulele      Narok        Narok Maai Mahiu road   \n",
      "3         Suswa     Suswa      Narok        Narok Maai Mahiu road   \n",
      "4        Mutira    Mutira  Kirinyaga       Kerugoya-Karatina Road   \n",
      "\n",
      "  Total people confirmed dead Time of the Accidents  Number of Accidents  \\\n",
      "0                           4               4.30 pm                   10   \n",
      "1                           1               5.50 pm                    1   \n",
      "2                           4                   NaN                    5   \n",
      "3                           3               6.00 pm                    5   \n",
      "4                           1                   NaN                    1   \n",
      "\n",
      "   Number of Spots  \n",
      "0                6  \n",
      "1                1  \n",
      "2                3  \n",
      "3                3  \n",
      "4                1  \n"
     ]
    }
   ],
   "source": [
    "# Specify the features for analysis\n",
    "road_feature = 'Road/ Highway'  # Column for road names\n",
    "spot_feature = 'Accident Spot'  # Column for accident spots (can also use 'Area')\n",
    "\n",
    "# Check if both features exist in the DataFrame\n",
    "if road_feature in data.columns and spot_feature in data.columns:\n",
    "    # Count the unique spots for each road\n",
    "    unique_spots_count = data.groupby(road_feature)[spot_feature].nunique()\n",
    "    \n",
    "    # Map the count back to the DataFrame\n",
    "    data['Number of Spots'] = data[road_feature].map(unique_spots_count)\n",
    "    \n",
    "    # Display the updated DataFrame (optional)\n",
    "    print(data.head())\n",
    "\n",
    "else:\n",
    "    print(f\"One or both features '{road_feature}' and '{spot_feature}' are not found in the DataFrame.\")"
   ]
  },
  {
   "cell_type": "code",
   "execution_count": 42,
   "metadata": {},
   "outputs": [
    {
     "name": "stdout",
     "output_type": "stream",
     "text": [
      "  Accident Spot      Area     County                Road/ Highway  \\\n",
      "0         Sobea     Sobea     Nakuru       Nakuru-Eldoret Highway   \n",
      "1    Maai-Mahiu  Naivasha     Nakuru  Maai-Mahiu Naivasha Highway   \n",
      "2       Ntulele   Ntulele      Narok        Narok Maai Mahiu road   \n",
      "3         Suswa     Suswa      Narok        Narok Maai Mahiu road   \n",
      "4        Mutira    Mutira  Kirinyaga       Kerugoya-Karatina Road   \n",
      "\n",
      "  Total people confirmed dead Time of the Accidents  Number of Accidents  \\\n",
      "0                           4               4.30 pm                   10   \n",
      "1                           1               5.50 pm                    1   \n",
      "2                           4                   NaN                    5   \n",
      "3                           3               6.00 pm                    5   \n",
      "4                           1                   NaN                    1   \n",
      "\n",
      "   Number of Spots     Score  \n",
      "0                6  0.877922  \n",
      "1                1  0.122078  \n",
      "2                3  0.438961  \n",
      "3                3  0.438961  \n",
      "4                1  0.122078  \n"
     ]
    }
   ],
   "source": [
    "if 'Number of Accidents' in data.columns and 'Number of Spots' in data.columns:\n",
    "    max_accidents = data['Number of Accidents'].max()\n",
    "    max_spots = data['Number of Spots'].max()\n",
    "    data['Score'] = ((0.4 * data['Number of Accidents'])/max_accidents) + ((0.6 * data['Number of Spots'])/max_spots)\n",
    "    print(data.head())\n",
    "    bins = [0, 0.10, 0.30, 0.80, 1.0]  # Define the bins for the score categories\n",
    "    labels = ['Safe', 'Mild danger', 'Dangerous', 'Very dangerous']  # Define corresponding labels\n",
    "    data['Danger Category'] = pd.cut(data['Score'], bins=bins, labels=labels, right=True, include_lowest=True)\n",
    "\n",
    "\n"
   ]
  },
  {
   "cell_type": "markdown",
   "metadata": {},
   "source": [
    "FINDING THE BEST MODEL "
   ]
  },
  {
   "cell_type": "code",
   "execution_count": 91,
   "metadata": {},
   "outputs": [
    {
     "name": "stderr",
     "output_type": "stream",
     "text": [
      "/home/eric-kaz/Desktop/Semester4.1/KnowledgeBaseSystems/trial1/.venv/lib/python3.12/site-packages/sklearn/model_selection/_search.py:320: UserWarning: The total space of parameters 8 is smaller than n_iter=10. Running 8 iterations. For exhaustive searches, use GridSearchCV.\n",
      "  warnings.warn(\n"
     ]
    },
    {
     "name": "stdout",
     "output_type": "stream",
     "text": [
      "                 Model  \\\n",
      "0  K-Nearest Neighbors   \n",
      "1                  SVM   \n",
      "2        Random Forest   \n",
      "3  Logistic Regression   \n",
      "4    Gradient Boosting   \n",
      "\n",
      "                                                                       Best Parameters  \\\n",
      "0                               {'model__weights': 'uniform', 'model__n_neighbors': 3}   \n",
      "1                  {'model__kernel': 'linear', 'model__gamma': 'auto', 'model__C': 10}   \n",
      "2  {'model__n_estimators': 100, 'model__min_samples_split': 5, 'model__max_depth': 10}   \n",
      "3                                           {'model__solver': 'lbfgs', 'model__C': 10}   \n",
      "4   {'model__n_estimators': 200, 'model__max_depth': 10, 'model__learning_rate': 0.01}   \n",
      "\n",
      "   Test Accuracy  Mean CV Accuracy  \n",
      "0       0.904762          0.933333  \n",
      "1       0.952381          0.916667  \n",
      "2       1.000000          0.916667  \n",
      "3       0.952381          0.900000  \n",
      "4       0.952381          0.883333  \n"
     ]
    },
    {
     "name": "stderr",
     "output_type": "stream",
     "text": [
      "/home/eric-kaz/Desktop/Semester4.1/KnowledgeBaseSystems/trial1/.venv/lib/python3.12/site-packages/sklearn/model_selection/_search.py:320: UserWarning: The total space of parameters 8 is smaller than n_iter=10. Running 8 iterations. For exhaustive searches, use GridSearchCV.\n",
      "  warnings.warn(\n"
     ]
    }
   ],
   "source": [
    "from sklearn.model_selection import train_test_split, RandomizedSearchCV, GridSearchCV, cross_val_score\n",
    "from sklearn.compose import ColumnTransformer\n",
    "from sklearn.pipeline import Pipeline\n",
    "from sklearn.feature_extraction.text import TfidfVectorizer\n",
    "from sklearn.preprocessing import StandardScaler\n",
    "from sklearn.linear_model import LogisticRegression\n",
    "from sklearn.ensemble import RandomForestClassifier, GradientBoostingClassifier\n",
    "from sklearn.svm import SVC\n",
    "from sklearn.neighbors import KNeighborsClassifier\n",
    "from sklearn.metrics import accuracy_score\n",
    "import pandas as pd\n",
    "import numpy as np\n",
    "\n",
    "def test_models_with_hyperparameter_tuning(X, y, text_column, search_method=\"random\"):\n",
    "    # Split data into training and test sets\n",
    "    X_train, X_test, y_train, y_test = train_test_split(X, y, test_size=0.25, random_state=42)\n",
    "\n",
    "    # Define a preprocessor for text columns\n",
    "    preprocessor = ColumnTransformer(\n",
    "        transformers=[\n",
    "            ('text', TfidfVectorizer(stop_words='english', max_features=100), text_column),\n",
    "            ('num', StandardScaler(), X.select_dtypes(include=['float64', 'int64']).columns)\n",
    "        ]\n",
    "    )\n",
    "\n",
    "    # Define models and hyperparameters\n",
    "    models = {\n",
    "        'Logistic Regression': LogisticRegression(random_state=42),\n",
    "        'Random Forest': RandomForestClassifier(random_state=42),\n",
    "        'SVM': SVC(random_state=42),\n",
    "        'Gradient Boosting': GradientBoostingClassifier(random_state=42),\n",
    "        'K-Nearest Neighbors': KNeighborsClassifier()\n",
    "    }\n",
    "\n",
    "    hyperparameters = {\n",
    "        'Logistic Regression': {\n",
    "            'model__C': [0.1, 1, 10, 100],\n",
    "            'model__solver': ['lbfgs', 'liblinear']\n",
    "        },\n",
    "        'Random Forest': {\n",
    "            'model__n_estimators': [50, 100, 200],\n",
    "            'model__max_depth': [5, 10, 20],\n",
    "            'model__min_samples_split': [2, 5, 10]\n",
    "        },\n",
    "        'SVM': {\n",
    "            'model__C': [0.1, 1, 10],\n",
    "            'model__gamma': ['scale', 'auto'],\n",
    "            'model__kernel': ['linear', 'rbf']\n",
    "        },\n",
    "        'Gradient Boosting': {\n",
    "            'model__n_estimators': [50, 100, 200],\n",
    "            'model__learning_rate': [0.01, 0.1, 0.2],\n",
    "            'model__max_depth': [3, 5, 10]\n",
    "        },\n",
    "        'K-Nearest Neighbors': {\n",
    "            'model__n_neighbors': [1, 3, 5, 10],\n",
    "            'model__weights': ['uniform', 'distance']\n",
    "        }\n",
    "    }\n",
    "\n",
    "    # Results list\n",
    "    results = []\n",
    "\n",
    "    # Loop through each model and perform hyperparameter tuning\n",
    "    for model_name, model in models.items():\n",
    "        # Create a pipeline\n",
    "        pipeline = Pipeline(steps=[\n",
    "            ('preprocessor', preprocessor),\n",
    "            ('model', model)\n",
    "        ])\n",
    "        \n",
    "        # Select the hyperparameter search method\n",
    "        if search_method == \"random\":\n",
    "            search = RandomizedSearchCV(\n",
    "                estimator=pipeline,\n",
    "                param_distributions=hyperparameters[model_name],\n",
    "                n_iter=10,  # Number of iterations for random search\n",
    "                scoring='accuracy',\n",
    "                cv=5,\n",
    "                random_state=42,\n",
    "                n_jobs=-1\n",
    "            )\n",
    "        elif search_method == \"grid\":\n",
    "            search = GridSearchCV(\n",
    "                estimator=pipeline,\n",
    "                param_grid=hyperparameters[model_name],\n",
    "                scoring='accuracy',\n",
    "                cv=5,\n",
    "                n_jobs=-1\n",
    "            )\n",
    "        else:\n",
    "            raise ValueError(\"Invalid search method. Choose 'random' or 'grid'.\")\n",
    "\n",
    "        # Fit the search to the training data\n",
    "        search.fit(X_train, y_train)\n",
    "\n",
    "        # Get the best model and evaluate on test data\n",
    "        best_model = search.best_estimator_\n",
    "        test_accuracy = best_model.score(X_test, y_test)\n",
    "\n",
    "        # Append results\n",
    "        results.append({\n",
    "            'Model': model_name,\n",
    "            'Best Parameters': search.best_params_,\n",
    "            'Test Accuracy': test_accuracy,\n",
    "            'Mean CV Accuracy': search.best_score_\n",
    "        })\n",
    "\n",
    "    # Convert results to DataFrame\n",
    "    results_df = pd.DataFrame(results)\n",
    "\n",
    "    # Sort results by Mean CV Accuracy\n",
    "    results_df = results_df.sort_values(by='Mean CV Accuracy', ascending=False).reset_index(drop=True)\n",
    "\n",
    "    return results_df\n",
    "\n",
    "# Assuming 'data' is your DataFrame with features and target\n",
    "X = data[['Accident Spot', \"Number of Spots\"]]\n",
    "y = data['Danger Category']\n",
    "\n",
    "# Call the function for hyperparameter tuning using RandomizedSearchCV\n",
    "results = test_models_with_hyperparameter_tuning(X, y, text_column='Accident Spot', search_method=\"random\")\n",
    "\n",
    "# Display the results\n",
    "pd.set_option('display.max_colwidth', None) \n",
    "print(results)\n"
   ]
  },
  {
   "cell_type": "markdown",
   "metadata": {},
   "source": [
    "BASE LINE CLASSIFIERS "
   ]
  },
  {
   "cell_type": "code",
   "execution_count": 94,
   "metadata": {},
   "outputs": [
    {
     "name": "stdout",
     "output_type": "stream",
     "text": [
      "               accuracy\n",
      "constant       0.285714\n",
      "uniform        0.428571\n",
      "stratified     0.380952\n",
      "prior          0.476190\n",
      "most_frequent  0.476190\n"
     ]
    }
   ],
   "source": [
    "import pandas as pd\n",
    "from sklearn import dummy, metrics\n",
    "from sklearn.model_selection import train_test_split\n",
    "from sklearn.feature_extraction.text import TfidfVectorizer\n",
    "from sklearn.compose import ColumnTransformer\n",
    "from sklearn.pipeline import Pipeline\n",
    "from sklearn.preprocessing import StandardScaler\n",
    "\n",
    "# Assuming your dataset is stored in a variable called 'data'\n",
    "# Let's select the features and target\n",
    "X = data[['Accident Spot', 'Number of Spots']]  # Features\n",
    "y = data['Danger Category']  # Target\n",
    "\n",
    "# Split the dataset into training and testing sets\n",
    "X_train, X_test, y_train, y_test = train_test_split(X, y, test_size=0.25, random_state=42)\n",
    "\n",
    "# Define a preprocessor that uses TF-IDF for the textual data and scales numerical data\n",
    "preprocessor = ColumnTransformer(\n",
    "    transformers=[\n",
    "        ('text', TfidfVectorizer(stop_words='english', max_features=100), 'Accident Spot'),  # Vectorize text\n",
    "        ('num', StandardScaler(), ['Number of Spots'])  # Scale numerical features\n",
    "    ]\n",
    ")\n",
    "\n",
    "# Define the DummyClassifier strategies\n",
    "strategies = ['constant', 'uniform', 'stratified', 'prior', 'most_frequent']\n",
    "baseline_args = [{'strategy': s} for s in strategies]\n",
    "baseline_args[0]['constant'] = 'Dangerous'  \n",
    "\n",
    "# List to store accuracies\n",
    "accuracies = []\n",
    "\n",
    "# Loop through each baseline strategy, train and evaluate the model\n",
    "for bla in baseline_args:\n",
    "    # Create the DummyClassifier with the current strategy\n",
    "    baseline = dummy.DummyClassifier(**bla)\n",
    "    \n",
    "    # Create a pipeline with the preprocessor and DummyClassifier\n",
    "    pipeline = Pipeline([\n",
    "        ('preprocessor', preprocessor),\n",
    "        ('model', baseline)\n",
    "    ])\n",
    "    \n",
    "    pipeline.fit(X_train, y_train)  # Train the model\n",
    "    base_preds = pipeline.predict(X_test)  # Make predictions\n",
    "    \n",
    "    # Calculate and store accuracy\n",
    "    accuracies.append(metrics.accuracy_score(base_preds, y_test))\n",
    "\n",
    "# Display the results in a DataFrame\n",
    "baseline_results = pd.DataFrame({'accuracy': accuracies}, index=strategies)\n",
    "print(baseline_results)\n"
   ]
  },
  {
   "cell_type": "markdown",
   "metadata": {},
   "source": [
    "THE CONFUSION MATRIX"
   ]
  },
  {
   "cell_type": "code",
   "execution_count": 104,
   "metadata": {},
   "outputs": [
    {
     "data": {
      "text/plain": [
       "<sklearn.metrics._plot.confusion_matrix.ConfusionMatrixDisplay at 0x7dd01d776570>"
      ]
     },
     "execution_count": 104,
     "metadata": {},
     "output_type": "execute_result"
    },
    {
     "data": {
      "image/png": "[encoded data removed]",
      "text/plain": [
       "<Figure size 640x480 with 2 Axes>"
      ]
     },
     "metadata": {},
     "output_type": "display_data"
    }
   ],
   "source": [
    "from sklearn.model_selection import train_test_split\n",
    "from sklearn.neighbors import KNeighborsClassifier\n",
    "from sklearn.metrics import confusion_matrix, ConfusionMatrixDisplay\n",
    "from sklearn.feature_extraction.text import TfidfVectorizer\n",
    "from sklearn.compose import ColumnTransformer\n",
    "from sklearn.pipeline import Pipeline\n",
    "from sklearn.preprocessing import StandardScaler\n",
    "import pandas as pd\n",
    "import numpy as np\n",
    "\n",
    "# Assuming 'data' is your DataFrame, with columns 'Accident Spot', 'Number of Spots', and 'Danger Category'\n",
    "\n",
    "# Split the data into features and target\n",
    "X = data[['Accident Spot', 'Number of Spots']]  # Features\n",
    "y = data['Danger Category']  # Target\n",
    "\n",
    "# Split data into training and testing sets\n",
    "X_train, X_test, y_train, y_test = train_test_split(X, y, test_size=0.25, random_state=42)\n",
    "\n",
    "# Define a preprocessor to handle both numerical and text features\n",
    "preprocessor = ColumnTransformer(\n",
    "    transformers=[\n",
    "        ('text', TfidfVectorizer(stop_words='english', max_features=100), 'Accident Spot'),  # Vectorize the text\n",
    "        ('num', StandardScaler(), ['Number of Spots'])  # Scale numerical features\n",
    "    ]\n",
    ")\n",
    "\n",
    "# Create a pipeline with preprocessing and KNN classifier\n",
    "pipeline = Pipeline(steps=[\n",
    "    ('preprocessor', preprocessor),\n",
    "    ('classifier', KNeighborsClassifier(n_neighbors=3))  # KNN with 3 neighbors\n",
    "])\n",
    "\n",
    "# Train the KNN model\n",
    "pipeline.fit(X_train, y_train)\n",
    "\n",
    "# Predict using the trained model\n",
    "y_pred = pipeline.predict(X_test)\n",
    "\n",
    "# Generate the confusion matrix\n",
    "cm = confusion_matrix(y_test, y_pred)\n",
    "\n",
    "# Display the confusion matrix\n",
    "disp = ConfusionMatrixDisplay(confusion_matrix=cm, display_labels=np.unique(y))\n",
    "disp.plot(cmap='Blues', values_format='d')\n",
    "\n",
    "\n"
   ]
  },
  {
   "cell_type": "markdown",
   "metadata": {},
   "source": [
    "OTHER EVALUATION METRICS "
   ]
  },
  {
   "cell_type": "code",
   "execution_count": 103,
   "metadata": {},
   "outputs": [
    {
     "name": "stdout",
     "output_type": "stream",
     "text": [
      "                precision    recall  f1-score   support\n",
      "\n",
      "     Dangerous       0.75      1.00      0.86         6\n",
      "   Mild danger       1.00      1.00      1.00        10\n",
      "Very dangerous       1.00      0.60      0.75         5\n",
      "\n",
      "      accuracy                           0.90        21\n",
      "     macro avg       0.92      0.87      0.87        21\n",
      "  weighted avg       0.93      0.90      0.90        21\n",
      "\n"
     ]
    }
   ],
   "source": [
    "print(metrics.classification_report(y_test, y_pred))"
   ]
  },
  {
   "cell_type": "code",
   "execution_count": 109,
   "metadata": {},
   "outputs": [
    {
     "data": {
      "image/png": "[encoded data removed]",
      "text/plain": [
       "<Figure size 1000x800 with 1 Axes>"
      ]
     },
     "metadata": {},
     "output_type": "display_data"
    }
   ],
   "source": [
    "import matplotlib.pyplot as plt\n",
    "from sklearn.metrics import roc_curve, auc\n",
    "from sklearn.preprocessing import label_binarize\n",
    "from sklearn.model_selection import train_test_split\n",
    "from sklearn.neighbors import KNeighborsClassifier\n",
    "from sklearn.feature_extraction.text import TfidfVectorizer\n",
    "from sklearn.compose import ColumnTransformer\n",
    "from sklearn.pipeline import Pipeline\n",
    "from sklearn.preprocessing import StandardScaler\n",
    "import numpy as np\n",
    "\n",
    "# Assuming 'data' is your DataFrame, with columns 'Accident Spot', 'Number of Spots', and 'Danger Category'\n",
    "\n",
    "# Split the data into features and target\n",
    "X = data[['Accident Spot', 'Number of Spots']]  # Features\n",
    "y = data['Danger Category']  # Target\n",
    "\n",
    "# Binarize the labels for multi-class classification\n",
    "y_bin = label_binarize(y, classes=np.unique(y))\n",
    "\n",
    "# Split data into training and testing sets\n",
    "X_train, X_test, y_train, y_test = train_test_split(X, y_bin, test_size=0.25, random_state=42)\n",
    "\n",
    "# Define a preprocessor to handle both numerical and text features\n",
    "preprocessor = ColumnTransformer(\n",
    "    transformers=[\n",
    "        ('text', TfidfVectorizer(stop_words='english', max_features=100), 'Accident Spot'),  # Vectorize the text\n",
    "        ('num', StandardScaler(), ['Number of Spots'])  # Scale numerical features\n",
    "    ]\n",
    ")\n",
    "\n",
    "# Create a pipeline with preprocessing and KNN classifier\n",
    "pipeline = Pipeline(steps=[\n",
    "    ('preprocessor', preprocessor),\n",
    "    ('classifier', KNeighborsClassifier(n_neighbors=3))  # KNN with 3 neighbors\n",
    "])\n",
    "\n",
    "# Train the KNN model\n",
    "pipeline.fit(X_train, y_train)\n",
    "\n",
    "# Get predicted probabilities\n",
    "y_pred_proba = pipeline.predict_proba(X_test)\n",
    "\n",
    "# Compute ROC curve and AUC for each class\n",
    "fpr, tpr, roc_auc = {}, {}, {}\n",
    "for i in range(y_bin.shape[1]):  # Iterate over each class\n",
    "    fpr[i], tpr[i], _ = roc_curve(y_test[:, i], y_pred_proba[i][:, 1])  # Get the ROC curve\n",
    "    roc_auc[i] = auc(fpr[i], tpr[i])  # Calculate AUC\n",
    "\n",
    "# Plot all ROC curves\n",
    "plt.figure(figsize=(10, 8))\n",
    "for i in range(y_bin.shape[1]):\n",
    "    plt.plot(fpr[i], tpr[i], lw=2, label=f'Class {i} (AUC = {roc_auc[i]:.2f})')\n",
    "\n",
    "# Plot diagonal line (no discrimination)\n",
    "plt.plot([0, 1], [0, 1], color='navy', lw=2, linestyle='--')\n",
    "\n",
    "plt.xlim([0.0, 1.0])\n",
    "plt.ylim([0.0, 1.05])\n",
    "plt.xlabel('False Positive Rate')\n",
    "plt.ylabel('True Positive Rate')\n",
    "plt.title('Receiver Operating Characteristic (ROC) Curve')\n",
    "plt.legend(loc='lower right')\n",
    "plt.show()\n"
   ]
  }
 ],
 "metadata": {
  "kernelspec": {
   "display_name": ".venv",
   "language": "python",
   "name": "python3"
  },
  "language_info": {
   "codemirror_mode": {
    "name": "ipython",
    "version": 3
   },
   "file_extension": ".py",
   "mimetype": "text/x-python",
   "name": "python",
   "nbconvert_exporter": "python",
   "pygments_lexer": "ipython3",
   "version": "3.12.3"
  }
 },
 "nbformat": 4,
 "nbformat_minor": 2
}
